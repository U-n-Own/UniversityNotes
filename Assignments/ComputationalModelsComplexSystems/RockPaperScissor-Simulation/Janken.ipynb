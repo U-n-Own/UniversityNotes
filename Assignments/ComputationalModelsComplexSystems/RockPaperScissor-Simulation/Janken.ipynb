{
 "cells": [
  {
   "cell_type": "markdown",
   "metadata": {},
   "source": [
    "# Janken in japanese (Rock, Paper, Scissors)\n",
    "\n",
    "In this simulation we are going to implement a simple scenario with a cycle strategy and thus simulate the dynamics and study what emerges from those at different parameters, the results i hope to come up are that we will get at least 4 different behaviours."
   ]
  },
  {
   "cell_type": "code",
   "execution_count": 1,
   "metadata": {},
   "outputs": [],
   "source": [
    "from RockPaperScissors import *"
   ]
  },
  {
   "cell_type": "code",
   "execution_count": 2,
   "metadata": {},
   "outputs": [],
   "source": [
    "# Construct a dictionary with different init of s_quant, r_quant, p_quant\n",
    "# The key is the name of the dictionary\n",
    "# The value is a tuple of s_quant, r_quant, p_quant, remember that they sum to 1\n",
    "\n",
    "dict_quant = {\n",
    "    'equal': (1/3, 1/3, 1/3),\n",
    "    'biased_r': (1/4, 1/2, 1/4),\n",
    "    'biased_s': (1/2, 1/4, 1/4),\n",
    "    'biased_p': (1/4, 1/4, 1/2),\n",
    "    'biased_rp': (1/6, 1/6, 2/3),\n",
    "    'biased_rs': (2/3, 1/6, 1/6),\n",
    "    'biased_sp': (1/6, 2/3, 1/6),   \n",
    "}\n",
    "\n",
    "# Set quantities\n",
    "s_quant, r_quant, p_quant = dict_quant['equal']\n"
   ]
  },
  {
   "cell_type": "code",
   "execution_count": 3,
   "metadata": {},
   "outputs": [
    {
     "ename": "ValueError",
     "evalue": "There are 5 color bins including extensions, but ncolors = 3; ncolors must equal or exceed the number of bins",
     "output_type": "error",
     "traceback": [
      "\u001b[1;31m---------------------------------------------------------------------------\u001b[0m",
      "\u001b[1;31mValueError\u001b[0m                                Traceback (most recent call last)",
      "Cell \u001b[1;32mIn[3], line 5\u001b[0m\n\u001b[0;32m      1\u001b[0m \u001b[38;5;66;03m# Initialize the game\u001b[39;00m\n\u001b[0;32m      2\u001b[0m \u001b[38;5;66;03m# Initialize the parameters\u001b[39;00m\n\u001b[1;32m----> 5\u001b[0m game \u001b[38;5;241m=\u001b[39m \u001b[43mRockPaperScissors\u001b[49m\u001b[43m(\u001b[49m\u001b[43mN\u001b[49m\u001b[38;5;241;43m=\u001b[39;49m\u001b[38;5;241;43m100\u001b[39;49m\u001b[43m,\u001b[49m\u001b[43m \u001b[49m\u001b[43mP_r\u001b[49m\u001b[38;5;241;43m=\u001b[39;49m\u001b[38;5;241;43m0.5\u001b[39;49m\u001b[43m,\u001b[49m\u001b[43m \u001b[49m\u001b[43mP_p\u001b[49m\u001b[38;5;241;43m=\u001b[39;49m\u001b[38;5;241;43m0.5\u001b[39;49m\u001b[43m,\u001b[49m\u001b[43m \u001b[49m\u001b[43mP_s\u001b[49m\u001b[38;5;241;43m=\u001b[39;49m\u001b[38;5;241;43m0.5\u001b[39;49m\u001b[43m,\u001b[49m\u001b[43m \u001b[49m\u001b[43mt\u001b[49m\u001b[38;5;241;43m=\u001b[39;49m\u001b[38;5;241;43m10\u001b[39;49m\u001b[43m,\u001b[49m\u001b[43m \u001b[49m\u001b[43ms_quant\u001b[49m\u001b[38;5;241;43m=\u001b[39;49m\u001b[43ms_quant\u001b[49m\u001b[43m,\u001b[49m\u001b[43m \u001b[49m\u001b[43mr_quant\u001b[49m\u001b[38;5;241;43m=\u001b[39;49m\u001b[43mr_quant\u001b[49m\u001b[43m,\u001b[49m\u001b[43m \u001b[49m\u001b[43mp_quant\u001b[49m\u001b[38;5;241;43m=\u001b[39;49m\u001b[43mp_quant\u001b[49m\u001b[43m)\u001b[49m\n\u001b[0;32m      7\u001b[0m game\u001b[38;5;241m.\u001b[39minitialize()\n\u001b[0;32m      9\u001b[0m game\u001b[38;5;241m.\u001b[39mplot_grid()\n",
      "File \u001b[1;32m\\\\wsl.localhost\\Ubuntu-22.04\\home\\vincent\\UniversityNotes\\Assignments\\ComputationalModelsComplexSystems\\RockPaperScissor-Simulation\\RockPaperScissors.py:43\u001b[0m, in \u001b[0;36mRockPaperScissors.__init__\u001b[1;34m(self, N, P_r, P_p, P_s, t, s_quant, p_quant, r_quant)\u001b[0m\n\u001b[0;32m     41\u001b[0m \u001b[38;5;28mself\u001b[39m\u001b[38;5;241m.\u001b[39mcmap \u001b[38;5;241m=\u001b[39m ListedColormap(\u001b[38;5;28mself\u001b[39m\u001b[38;5;241m.\u001b[39mcolors)\n\u001b[0;32m     42\u001b[0m \u001b[38;5;66;03m# use boundaries such we can use 1, 2 and 3 for different colours\u001b[39;00m\n\u001b[1;32m---> 43\u001b[0m \u001b[38;5;28mself\u001b[39m\u001b[38;5;241m.\u001b[39mnorm \u001b[38;5;241m=\u001b[39m \u001b[43mcolors\u001b[49m\u001b[38;5;241;43m.\u001b[39;49m\u001b[43mBoundaryNorm\u001b[49m\u001b[43m(\u001b[49m\u001b[43mboundaries\u001b[49m\u001b[38;5;241;43m=\u001b[39;49m\u001b[43m[\u001b[49m\u001b[38;5;241;43m1\u001b[39;49m\u001b[43m,\u001b[49m\u001b[43m \u001b[49m\u001b[38;5;241;43m1.99\u001b[39;49m\u001b[43m,\u001b[49m\u001b[43m \u001b[49m\u001b[38;5;241;43m2\u001b[39;49m\u001b[43m,\u001b[49m\u001b[43m \u001b[49m\u001b[38;5;241;43m2.99\u001b[39;49m\u001b[43m,\u001b[49m\u001b[43m \u001b[49m\u001b[38;5;241;43m3\u001b[39;49m\u001b[43m,\u001b[49m\u001b[43m \u001b[49m\u001b[38;5;241;43m3.99\u001b[39;49m\u001b[43m]\u001b[49m\u001b[43m,\u001b[49m\u001b[43m \u001b[49m\u001b[43mncolors\u001b[49m\u001b[38;5;241;43m=\u001b[39;49m\u001b[38;5;241;43m3\u001b[39;49m\u001b[43m)\u001b[49m\n",
      "File \u001b[1;32m~\\AppData\\Local\\Packages\\PythonSoftwareFoundation.Python.3.11_qbz5n2kfra8p0\\LocalCache\\local-packages\\Python311\\site-packages\\matplotlib\\colors.py:2061\u001b[0m, in \u001b[0;36mBoundaryNorm.__init__\u001b[1;34m(self, boundaries, ncolors, clip, extend)\u001b[0m\n\u001b[0;32m   2059\u001b[0m     \u001b[38;5;28mself\u001b[39m\u001b[38;5;241m.\u001b[39m_n_regions \u001b[38;5;241m+\u001b[39m\u001b[38;5;241m=\u001b[39m \u001b[38;5;241m1\u001b[39m\n\u001b[0;32m   2060\u001b[0m \u001b[38;5;28;01mif\u001b[39;00m \u001b[38;5;28mself\u001b[39m\u001b[38;5;241m.\u001b[39m_n_regions \u001b[38;5;241m>\u001b[39m \u001b[38;5;28mself\u001b[39m\u001b[38;5;241m.\u001b[39mNcmap:\n\u001b[1;32m-> 2061\u001b[0m     \u001b[38;5;28;01mraise\u001b[39;00m \u001b[38;5;167;01mValueError\u001b[39;00m(\u001b[38;5;124mf\u001b[39m\u001b[38;5;124m\"\u001b[39m\u001b[38;5;124mThere are \u001b[39m\u001b[38;5;132;01m{\u001b[39;00m\u001b[38;5;28mself\u001b[39m\u001b[38;5;241m.\u001b[39m_n_regions\u001b[38;5;132;01m}\u001b[39;00m\u001b[38;5;124m color bins \u001b[39m\u001b[38;5;124m\"\u001b[39m\n\u001b[0;32m   2062\u001b[0m                      \u001b[38;5;124m\"\u001b[39m\u001b[38;5;124mincluding extensions, but ncolors = \u001b[39m\u001b[38;5;124m\"\u001b[39m\n\u001b[0;32m   2063\u001b[0m                      \u001b[38;5;124mf\u001b[39m\u001b[38;5;124m\"\u001b[39m\u001b[38;5;132;01m{\u001b[39;00mncolors\u001b[38;5;132;01m}\u001b[39;00m\u001b[38;5;124m; ncolors must equal or exceed the \u001b[39m\u001b[38;5;124m\"\u001b[39m\n\u001b[0;32m   2064\u001b[0m                      \u001b[38;5;124m\"\u001b[39m\u001b[38;5;124mnumber of bins\u001b[39m\u001b[38;5;124m\"\u001b[39m)\n",
      "\u001b[1;31mValueError\u001b[0m: There are 5 color bins including extensions, but ncolors = 3; ncolors must equal or exceed the number of bins"
     ]
    }
   ],
   "source": [
    "# Initialize the game\n",
    "# Initialize the parameters\n",
    "\n",
    "\n",
    "game = RockPaperScissors(N=100, P_r=0.5, P_p=0.5, P_s=0.5, t=10, s_quant=s_quant, r_quant=r_quant, p_quant=p_quant)\n",
    "\n",
    "game.initialize()\n",
    "\n",
    "game.plot_grid()"
   ]
  },
  {
   "cell_type": "code",
   "execution_count": null,
   "metadata": {},
   "outputs": [],
   "source": [
    "# plot in place instead of opening a new window\n",
    "game.play_game()"
   ]
  },
  {
   "cell_type": "code",
   "execution_count": null,
   "metadata": {},
   "outputs": [],
   "source": []
  },
  {
   "cell_type": "code",
   "execution_count": null,
   "metadata": {},
   "outputs": [],
   "source": []
  }
 ],
 "metadata": {
  "kernelspec": {
   "display_name": "Python 3",
   "language": "python",
   "name": "python3"
  },
  "language_info": {
   "codemirror_mode": {
    "name": "ipython",
    "version": 3
   },
   "file_extension": ".py",
   "mimetype": "text/x-python",
   "name": "python",
   "nbconvert_exporter": "python",
   "pygments_lexer": "ipython3",
   "version": "3.11.9"
  }
 },
 "nbformat": 4,
 "nbformat_minor": 2
}
