{
 "cells": [
  {
   "cell_type": "markdown",
   "id": "3a79a27e",
   "metadata": {},
   "source": [
    "# Deep Learning with PyTorch\n",
    "\n",
    "we will use:\n",
    "- PyTorch for the deep learning tools (modules, optimizers, losses, ...)\n",
    "- torchvision for the computer vision architectures and datasets\n",
    "- Avalanche for the multi-task streams of datasets and dynamic architectures (and later for incremental learning)"
   ]
  },
  {
   "cell_type": "markdown",
   "id": "6a58f322",
   "metadata": {},
   "source": [
    "install dependencies:"
   ]
  },
  {
   "cell_type": "code",
   "execution_count": 1,
   "id": "c79ac545",
   "metadata": {
    "scrolled": true
   },
   "outputs": [
    {
     "name": "stdout",
     "output_type": "stream",
     "text": [
      "Requirement already satisfied: avalanche-lib==0.5.0 in c:\\users\\cenzo\\appdata\\local\\packages\\pythonsoftwarefoundation.python.3.11_qbz5n2kfra8p0\\localcache\\local-packages\\python311\\site-packages (0.5.0)\n",
      "Requirement already satisfied: typing-extensions>=4.6.0 in c:\\users\\cenzo\\appdata\\local\\packages\\pythonsoftwarefoundation.python.3.11_qbz5n2kfra8p0\\localcache\\local-packages\\python311\\site-packages (from avalanche-lib==0.5.0) (4.10.0)\n",
      "Requirement already satisfied: psutil in c:\\users\\cenzo\\appdata\\local\\packages\\pythonsoftwarefoundation.python.3.11_qbz5n2kfra8p0\\localcache\\local-packages\\python311\\site-packages (from avalanche-lib==0.5.0) (5.9.5)\n",
      "Requirement already satisfied: gputil in c:\\users\\cenzo\\appdata\\local\\packages\\pythonsoftwarefoundation.python.3.11_qbz5n2kfra8p0\\localcache\\local-packages\\python311\\site-packages (from avalanche-lib==0.5.0) (1.4.0)\n",
      "Requirement already satisfied: scikit-learn in c:\\users\\cenzo\\appdata\\local\\packages\\pythonsoftwarefoundation.python.3.11_qbz5n2kfra8p0\\localcache\\local-packages\\python311\\site-packages (from avalanche-lib==0.5.0) (1.3.1)\n",
      "Requirement already satisfied: matplotlib in c:\\users\\cenzo\\appdata\\local\\packages\\pythonsoftwarefoundation.python.3.11_qbz5n2kfra8p0\\localcache\\local-packages\\python311\\site-packages (from avalanche-lib==0.5.0) (3.8.0)\n",
      "Requirement already satisfied: numpy in c:\\users\\cenzo\\appdata\\local\\packages\\pythonsoftwarefoundation.python.3.11_qbz5n2kfra8p0\\localcache\\local-packages\\python311\\site-packages (from avalanche-lib==0.5.0) (1.25.2)\n",
      "Requirement already satisfied: pytorchcv in c:\\users\\cenzo\\appdata\\local\\packages\\pythonsoftwarefoundation.python.3.11_qbz5n2kfra8p0\\localcache\\local-packages\\python311\\site-packages (from avalanche-lib==0.5.0) (0.0.67)\n",
      "Requirement already satisfied: wandb in c:\\users\\cenzo\\appdata\\local\\packages\\pythonsoftwarefoundation.python.3.11_qbz5n2kfra8p0\\localcache\\local-packages\\python311\\site-packages (from avalanche-lib==0.5.0) (0.16.4)\n",
      "Requirement already satisfied: tensorboard>=1.15 in c:\\users\\cenzo\\appdata\\local\\packages\\pythonsoftwarefoundation.python.3.11_qbz5n2kfra8p0\\localcache\\local-packages\\python311\\site-packages (from avalanche-lib==0.5.0) (2.16.2)\n",
      "Requirement already satisfied: tqdm in c:\\users\\cenzo\\appdata\\local\\packages\\pythonsoftwarefoundation.python.3.11_qbz5n2kfra8p0\\localcache\\local-packages\\python311\\site-packages (from avalanche-lib==0.5.0) (4.66.1)\n",
      "Requirement already satisfied: torch in c:\\users\\cenzo\\appdata\\local\\packages\\pythonsoftwarefoundation.python.3.11_qbz5n2kfra8p0\\localcache\\local-packages\\python311\\site-packages (from avalanche-lib==0.5.0) (2.2.1+cu121)\n",
      "Requirement already satisfied: torchvision in c:\\users\\cenzo\\appdata\\local\\packages\\pythonsoftwarefoundation.python.3.11_qbz5n2kfra8p0\\localcache\\local-packages\\python311\\site-packages (from avalanche-lib==0.5.0) (0.17.1)\n",
      "Requirement already satisfied: torchmetrics in c:\\users\\cenzo\\appdata\\local\\packages\\pythonsoftwarefoundation.python.3.11_qbz5n2kfra8p0\\localcache\\local-packages\\python311\\site-packages (from avalanche-lib==0.5.0) (1.3.1)\n",
      "Requirement already satisfied: gdown in c:\\users\\cenzo\\appdata\\local\\packages\\pythonsoftwarefoundation.python.3.11_qbz5n2kfra8p0\\localcache\\local-packages\\python311\\site-packages (from avalanche-lib==0.5.0) (5.1.0)\n",
      "Requirement already satisfied: qpsolvers[open_source_solvers] in c:\\users\\cenzo\\appdata\\local\\packages\\pythonsoftwarefoundation.python.3.11_qbz5n2kfra8p0\\localcache\\local-packages\\python311\\site-packages (from avalanche-lib==0.5.0) (4.3.1)\n",
      "Requirement already satisfied: dill in c:\\users\\cenzo\\appdata\\local\\packages\\pythonsoftwarefoundation.python.3.11_qbz5n2kfra8p0\\localcache\\local-packages\\python311\\site-packages (from avalanche-lib==0.5.0) (0.3.7)\n",
      "Requirement already satisfied: packaging in c:\\users\\cenzo\\appdata\\local\\packages\\pythonsoftwarefoundation.python.3.11_qbz5n2kfra8p0\\localcache\\local-packages\\python311\\site-packages (from avalanche-lib==0.5.0) (23.2)\n",
      "Requirement already satisfied: absl-py>=0.4 in c:\\users\\cenzo\\appdata\\local\\packages\\pythonsoftwarefoundation.python.3.11_qbz5n2kfra8p0\\localcache\\local-packages\\python311\\site-packages (from tensorboard>=1.15->avalanche-lib==0.5.0) (2.1.0)\n",
      "Requirement already satisfied: grpcio>=1.48.2 in c:\\users\\cenzo\\appdata\\local\\packages\\pythonsoftwarefoundation.python.3.11_qbz5n2kfra8p0\\localcache\\local-packages\\python311\\site-packages (from tensorboard>=1.15->avalanche-lib==0.5.0) (1.62.1)\n",
      "Requirement already satisfied: markdown>=2.6.8 in c:\\users\\cenzo\\appdata\\local\\packages\\pythonsoftwarefoundation.python.3.11_qbz5n2kfra8p0\\localcache\\local-packages\\python311\\site-packages (from tensorboard>=1.15->avalanche-lib==0.5.0) (3.6)\n",
      "Requirement already satisfied: protobuf!=4.24.0,>=3.19.6 in c:\\users\\cenzo\\appdata\\local\\packages\\pythonsoftwarefoundation.python.3.11_qbz5n2kfra8p0\\localcache\\local-packages\\python311\\site-packages (from tensorboard>=1.15->avalanche-lib==0.5.0) (4.25.3)\n",
      "Requirement already satisfied: setuptools>=41.0.0 in c:\\program files\\windowsapps\\pythonsoftwarefoundation.python.3.11_3.11.2288.0_x64__qbz5n2kfra8p0\\lib\\site-packages (from tensorboard>=1.15->avalanche-lib==0.5.0) (65.5.0)\n",
      "Requirement already satisfied: six>1.9 in c:\\users\\cenzo\\appdata\\local\\packages\\pythonsoftwarefoundation.python.3.11_qbz5n2kfra8p0\\localcache\\local-packages\\python311\\site-packages (from tensorboard>=1.15->avalanche-lib==0.5.0) (1.16.0)\n",
      "Requirement already satisfied: tensorboard-data-server<0.8.0,>=0.7.0 in c:\\users\\cenzo\\appdata\\local\\packages\\pythonsoftwarefoundation.python.3.11_qbz5n2kfra8p0\\localcache\\local-packages\\python311\\site-packages (from tensorboard>=1.15->avalanche-lib==0.5.0) (0.7.2)\n",
      "Requirement already satisfied: werkzeug>=1.0.1 in c:\\users\\cenzo\\appdata\\local\\packages\\pythonsoftwarefoundation.python.3.11_qbz5n2kfra8p0\\localcache\\local-packages\\python311\\site-packages (from tensorboard>=1.15->avalanche-lib==0.5.0) (3.0.1)\n",
      "Requirement already satisfied: beautifulsoup4 in c:\\users\\cenzo\\appdata\\local\\packages\\pythonsoftwarefoundation.python.3.11_qbz5n2kfra8p0\\localcache\\local-packages\\python311\\site-packages (from gdown->avalanche-lib==0.5.0) (4.12.2)\n",
      "Requirement already satisfied: filelock in c:\\users\\cenzo\\appdata\\local\\packages\\pythonsoftwarefoundation.python.3.11_qbz5n2kfra8p0\\localcache\\local-packages\\python311\\site-packages (from gdown->avalanche-lib==0.5.0) (3.12.4)\n",
      "Requirement already satisfied: requests[socks] in c:\\users\\cenzo\\appdata\\local\\packages\\pythonsoftwarefoundation.python.3.11_qbz5n2kfra8p0\\localcache\\local-packages\\python311\\site-packages (from gdown->avalanche-lib==0.5.0) (2.31.0)\n",
      "Requirement already satisfied: contourpy>=1.0.1 in c:\\users\\cenzo\\appdata\\local\\packages\\pythonsoftwarefoundation.python.3.11_qbz5n2kfra8p0\\localcache\\local-packages\\python311\\site-packages (from matplotlib->avalanche-lib==0.5.0) (1.1.1)\n",
      "Requirement already satisfied: cycler>=0.10 in c:\\users\\cenzo\\appdata\\local\\packages\\pythonsoftwarefoundation.python.3.11_qbz5n2kfra8p0\\localcache\\local-packages\\python311\\site-packages (from matplotlib->avalanche-lib==0.5.0) (0.12.0)\n",
      "Requirement already satisfied: fonttools>=4.22.0 in c:\\users\\cenzo\\appdata\\local\\packages\\pythonsoftwarefoundation.python.3.11_qbz5n2kfra8p0\\localcache\\local-packages\\python311\\site-packages (from matplotlib->avalanche-lib==0.5.0) (4.43.0)\n",
      "Requirement already satisfied: kiwisolver>=1.0.1 in c:\\users\\cenzo\\appdata\\local\\packages\\pythonsoftwarefoundation.python.3.11_qbz5n2kfra8p0\\localcache\\local-packages\\python311\\site-packages (from matplotlib->avalanche-lib==0.5.0) (1.4.5)\n",
      "Requirement already satisfied: pillow>=6.2.0 in c:\\users\\cenzo\\appdata\\local\\packages\\pythonsoftwarefoundation.python.3.11_qbz5n2kfra8p0\\localcache\\local-packages\\python311\\site-packages (from matplotlib->avalanche-lib==0.5.0) (9.5.0)\n",
      "Requirement already satisfied: pyparsing>=2.3.1 in c:\\users\\cenzo\\appdata\\local\\packages\\pythonsoftwarefoundation.python.3.11_qbz5n2kfra8p0\\localcache\\local-packages\\python311\\site-packages (from matplotlib->avalanche-lib==0.5.0) (3.1.1)\n",
      "Requirement already satisfied: python-dateutil>=2.7 in c:\\users\\cenzo\\appdata\\local\\packages\\pythonsoftwarefoundation.python.3.11_qbz5n2kfra8p0\\localcache\\local-packages\\python311\\site-packages (from matplotlib->avalanche-lib==0.5.0) (2.8.2)\n",
      "Requirement already satisfied: scipy>=1.2.0 in c:\\users\\cenzo\\appdata\\local\\packages\\pythonsoftwarefoundation.python.3.11_qbz5n2kfra8p0\\localcache\\local-packages\\python311\\site-packages (from qpsolvers[open_source_solvers]->avalanche-lib==0.5.0) (1.11.3)\n",
      "Requirement already satisfied: joblib>=1.1.1 in c:\\users\\cenzo\\appdata\\local\\packages\\pythonsoftwarefoundation.python.3.11_qbz5n2kfra8p0\\localcache\\local-packages\\python311\\site-packages (from scikit-learn->avalanche-lib==0.5.0) (1.3.2)\n",
      "Requirement already satisfied: threadpoolctl>=2.0.0 in c:\\users\\cenzo\\appdata\\local\\packages\\pythonsoftwarefoundation.python.3.11_qbz5n2kfra8p0\\localcache\\local-packages\\python311\\site-packages (from scikit-learn->avalanche-lib==0.5.0) (3.2.0)\n",
      "Requirement already satisfied: sympy in c:\\users\\cenzo\\appdata\\local\\packages\\pythonsoftwarefoundation.python.3.11_qbz5n2kfra8p0\\localcache\\local-packages\\python311\\site-packages (from torch->avalanche-lib==0.5.0) (1.12)\n",
      "Requirement already satisfied: networkx in c:\\users\\cenzo\\appdata\\local\\packages\\pythonsoftwarefoundation.python.3.11_qbz5n2kfra8p0\\localcache\\local-packages\\python311\\site-packages (from torch->avalanche-lib==0.5.0) (3.2.1)\n",
      "Requirement already satisfied: jinja2 in c:\\users\\cenzo\\appdata\\local\\packages\\pythonsoftwarefoundation.python.3.11_qbz5n2kfra8p0\\localcache\\local-packages\\python311\\site-packages (from torch->avalanche-lib==0.5.0) (3.1.2)\n",
      "Requirement already satisfied: fsspec in c:\\users\\cenzo\\appdata\\local\\packages\\pythonsoftwarefoundation.python.3.11_qbz5n2kfra8p0\\localcache\\local-packages\\python311\\site-packages (from torch->avalanche-lib==0.5.0) (2023.6.0)\n",
      "Requirement already satisfied: lightning-utilities>=0.8.0 in c:\\users\\cenzo\\appdata\\local\\packages\\pythonsoftwarefoundation.python.3.11_qbz5n2kfra8p0\\localcache\\local-packages\\python311\\site-packages (from torchmetrics->avalanche-lib==0.5.0) (0.10.1)\n",
      "Requirement already satisfied: colorama in c:\\users\\cenzo\\appdata\\local\\packages\\pythonsoftwarefoundation.python.3.11_qbz5n2kfra8p0\\localcache\\local-packages\\python311\\site-packages (from tqdm->avalanche-lib==0.5.0) (0.4.6)\n",
      "Requirement already satisfied: Click!=8.0.0,>=7.1 in c:\\users\\cenzo\\appdata\\local\\packages\\pythonsoftwarefoundation.python.3.11_qbz5n2kfra8p0\\localcache\\local-packages\\python311\\site-packages (from wandb->avalanche-lib==0.5.0) (8.1.7)\n",
      "Requirement already satisfied: GitPython!=3.1.29,>=1.0.0 in c:\\users\\cenzo\\appdata\\local\\packages\\pythonsoftwarefoundation.python.3.11_qbz5n2kfra8p0\\localcache\\local-packages\\python311\\site-packages (from wandb->avalanche-lib==0.5.0) (3.1.42)\n",
      "Requirement already satisfied: sentry-sdk>=1.0.0 in c:\\users\\cenzo\\appdata\\local\\packages\\pythonsoftwarefoundation.python.3.11_qbz5n2kfra8p0\\localcache\\local-packages\\python311\\site-packages (from wandb->avalanche-lib==0.5.0) (1.42.0)\n",
      "Requirement already satisfied: docker-pycreds>=0.4.0 in c:\\users\\cenzo\\appdata\\local\\packages\\pythonsoftwarefoundation.python.3.11_qbz5n2kfra8p0\\localcache\\local-packages\\python311\\site-packages (from wandb->avalanche-lib==0.5.0) (0.4.0)\n",
      "Requirement already satisfied: PyYAML in c:\\users\\cenzo\\appdata\\local\\packages\\pythonsoftwarefoundation.python.3.11_qbz5n2kfra8p0\\localcache\\local-packages\\python311\\site-packages (from wandb->avalanche-lib==0.5.0) (6.0.1)\n",
      "Requirement already satisfied: setproctitle in c:\\users\\cenzo\\appdata\\local\\packages\\pythonsoftwarefoundation.python.3.11_qbz5n2kfra8p0\\localcache\\local-packages\\python311\\site-packages (from wandb->avalanche-lib==0.5.0) (1.3.3)\n",
      "Requirement already satisfied: appdirs>=1.4.3 in c:\\users\\cenzo\\appdata\\local\\packages\\pythonsoftwarefoundation.python.3.11_qbz5n2kfra8p0\\localcache\\local-packages\\python311\\site-packages (from wandb->avalanche-lib==0.5.0) (1.4.4)\n",
      "Requirement already satisfied: gitdb<5,>=4.0.1 in c:\\users\\cenzo\\appdata\\local\\packages\\pythonsoftwarefoundation.python.3.11_qbz5n2kfra8p0\\localcache\\local-packages\\python311\\site-packages (from GitPython!=3.1.29,>=1.0.0->wandb->avalanche-lib==0.5.0) (4.0.11)\n",
      "Requirement already satisfied: charset-normalizer<4,>=2 in c:\\users\\cenzo\\appdata\\local\\packages\\pythonsoftwarefoundation.python.3.11_qbz5n2kfra8p0\\localcache\\local-packages\\python311\\site-packages (from requests[socks]->gdown->avalanche-lib==0.5.0) (3.3.0)\n",
      "Requirement already satisfied: idna<4,>=2.5 in c:\\users\\cenzo\\appdata\\local\\packages\\pythonsoftwarefoundation.python.3.11_qbz5n2kfra8p0\\localcache\\local-packages\\python311\\site-packages (from requests[socks]->gdown->avalanche-lib==0.5.0) (3.4)\n",
      "Requirement already satisfied: urllib3<3,>=1.21.1 in c:\\users\\cenzo\\appdata\\local\\packages\\pythonsoftwarefoundation.python.3.11_qbz5n2kfra8p0\\localcache\\local-packages\\python311\\site-packages (from requests[socks]->gdown->avalanche-lib==0.5.0) (2.0.6)\n",
      "Requirement already satisfied: certifi>=2017.4.17 in c:\\users\\cenzo\\appdata\\local\\packages\\pythonsoftwarefoundation.python.3.11_qbz5n2kfra8p0\\localcache\\local-packages\\python311\\site-packages (from requests[socks]->gdown->avalanche-lib==0.5.0) (2023.7.22)\n",
      "Requirement already satisfied: MarkupSafe>=2.1.1 in c:\\users\\cenzo\\appdata\\local\\packages\\pythonsoftwarefoundation.python.3.11_qbz5n2kfra8p0\\localcache\\local-packages\\python311\\site-packages (from werkzeug>=1.0.1->tensorboard>=1.15->avalanche-lib==0.5.0) (2.1.3)\n",
      "Requirement already satisfied: soupsieve>1.2 in c:\\users\\cenzo\\appdata\\local\\packages\\pythonsoftwarefoundation.python.3.11_qbz5n2kfra8p0\\localcache\\local-packages\\python311\\site-packages (from beautifulsoup4->gdown->avalanche-lib==0.5.0) (2.5)\n",
      "Requirement already satisfied: clarabel>=0.4.1 in c:\\users\\cenzo\\appdata\\local\\packages\\pythonsoftwarefoundation.python.3.11_qbz5n2kfra8p0\\localcache\\local-packages\\python311\\site-packages (from qpsolvers[open_source_solvers]->avalanche-lib==0.5.0) (0.7.1)\n",
      "Requirement already satisfied: cvxopt>=1.2.6 in c:\\users\\cenzo\\appdata\\local\\packages\\pythonsoftwarefoundation.python.3.11_qbz5n2kfra8p0\\localcache\\local-packages\\python311\\site-packages (from qpsolvers[open_source_solvers]->avalanche-lib==0.5.0) (1.3.2)\n",
      "Requirement already satisfied: daqp>=0.5.1 in c:\\users\\cenzo\\appdata\\local\\packages\\pythonsoftwarefoundation.python.3.11_qbz5n2kfra8p0\\localcache\\local-packages\\python311\\site-packages (from qpsolvers[open_source_solvers]->avalanche-lib==0.5.0) (0.5.1)\n",
      "Requirement already satisfied: ecos>=2.0.8 in c:\\users\\cenzo\\appdata\\local\\packages\\pythonsoftwarefoundation.python.3.11_qbz5n2kfra8p0\\localcache\\local-packages\\python311\\site-packages (from qpsolvers[open_source_solvers]->avalanche-lib==0.5.0) (2.0.13)\n",
      "Requirement already satisfied: highspy>=1.1.2.dev3 in c:\\users\\cenzo\\appdata\\local\\packages\\pythonsoftwarefoundation.python.3.11_qbz5n2kfra8p0\\localcache\\local-packages\\python311\\site-packages (from qpsolvers[open_source_solvers]->avalanche-lib==0.5.0) (1.7.1.dev1)\n",
      "Requirement already satisfied: osqp>=0.6.2 in c:\\users\\cenzo\\appdata\\local\\packages\\pythonsoftwarefoundation.python.3.11_qbz5n2kfra8p0\\localcache\\local-packages\\python311\\site-packages (from qpsolvers[open_source_solvers]->avalanche-lib==0.5.0) (0.6.5)\n",
      "Requirement already satisfied: piqp>=0.2.2 in c:\\users\\cenzo\\appdata\\local\\packages\\pythonsoftwarefoundation.python.3.11_qbz5n2kfra8p0\\localcache\\local-packages\\python311\\site-packages (from qpsolvers[open_source_solvers]->avalanche-lib==0.5.0) (0.2.4)\n",
      "Requirement already satisfied: proxsuite>=0.2.9 in c:\\users\\cenzo\\appdata\\local\\packages\\pythonsoftwarefoundation.python.3.11_qbz5n2kfra8p0\\localcache\\local-packages\\python311\\site-packages (from qpsolvers[open_source_solvers]->avalanche-lib==0.5.0) (0.6.2)\n",
      "Requirement already satisfied: qpalm>=1.2.1 in c:\\users\\cenzo\\appdata\\local\\packages\\pythonsoftwarefoundation.python.3.11_qbz5n2kfra8p0\\localcache\\local-packages\\python311\\site-packages (from qpsolvers[open_source_solvers]->avalanche-lib==0.5.0) (1.2.2)\n",
      "Requirement already satisfied: quadprog>=0.1.11 in c:\\users\\cenzo\\appdata\\local\\packages\\pythonsoftwarefoundation.python.3.11_qbz5n2kfra8p0\\localcache\\local-packages\\python311\\site-packages (from qpsolvers[open_source_solvers]->avalanche-lib==0.5.0) (0.1.12)\n",
      "Requirement already satisfied: scs>=3.2.0 in c:\\users\\cenzo\\appdata\\local\\packages\\pythonsoftwarefoundation.python.3.11_qbz5n2kfra8p0\\localcache\\local-packages\\python311\\site-packages (from qpsolvers[open_source_solvers]->avalanche-lib==0.5.0) (3.2.4.post1)\n",
      "Requirement already satisfied: PySocks!=1.5.7,>=1.5.6 in c:\\users\\cenzo\\appdata\\local\\packages\\pythonsoftwarefoundation.python.3.11_qbz5n2kfra8p0\\localcache\\local-packages\\python311\\site-packages (from requests[socks]->gdown->avalanche-lib==0.5.0) (1.7.1)\n",
      "Requirement already satisfied: mpmath>=0.19 in c:\\users\\cenzo\\appdata\\local\\packages\\pythonsoftwarefoundation.python.3.11_qbz5n2kfra8p0\\localcache\\local-packages\\python311\\site-packages (from sympy->torch->avalanche-lib==0.5.0) (1.3.0)\n",
      "Requirement already satisfied: smmap<6,>=3.0.1 in c:\\users\\cenzo\\appdata\\local\\packages\\pythonsoftwarefoundation.python.3.11_qbz5n2kfra8p0\\localcache\\local-packages\\python311\\site-packages (from gitdb<5,>=4.0.1->GitPython!=3.1.29,>=1.0.0->wandb->avalanche-lib==0.5.0) (5.0.1)\n",
      "Requirement already satisfied: qdldl in c:\\users\\cenzo\\appdata\\local\\packages\\pythonsoftwarefoundation.python.3.11_qbz5n2kfra8p0\\localcache\\local-packages\\python311\\site-packages (from osqp>=0.6.2->qpsolvers[open_source_solvers]->avalanche-lib==0.5.0) (0.1.7.post0)\n",
      "Requirement already satisfied: cmeel in c:\\users\\cenzo\\appdata\\local\\packages\\pythonsoftwarefoundation.python.3.11_qbz5n2kfra8p0\\localcache\\local-packages\\python311\\site-packages (from proxsuite>=0.2.9->qpsolvers[open_source_solvers]->avalanche-lib==0.5.0) (0.53.3)\n"
     ]
    }
   ],
   "source": [
    "!pip install avalanche-lib==0.5.0"
   ]
  },
  {
   "cell_type": "markdown",
   "id": "d6c7e729",
   "metadata": {},
   "source": [
    "tested with:\n",
    "- python 3.10\n",
    "- avalanche 0.5"
   ]
  },
  {
   "cell_type": "code",
   "execution_count": 2,
   "id": "9ad2b7f2",
   "metadata": {},
   "outputs": [],
   "source": [
    "import torch\n",
    "import avalanche\n",
    "import torchvision\n",
    "import matplotlib.pyplot as plt"
   ]
  },
  {
   "cell_type": "code",
   "execution_count": 2,
   "id": "4417c161",
   "metadata": {},
   "outputs": [
    {
     "data": {
      "text/plain": [
       "True"
      ]
     },
     "execution_count": 2,
     "metadata": {},
     "output_type": "execute_result"
    }
   ],
   "source": [
    "# check if CUDA is available\n",
    "torch.cuda.is_available()"
   ]
  },
  {
   "cell_type": "markdown",
   "id": "9de9648a",
   "metadata": {},
   "source": [
    "# Dataset\n",
    "first, we load the data.\n",
    "- The data is automatically downloaded the first time.\n",
    "- `n_experiences` defines the lenght of the stream. Today we train our model offline, so we set `n_experiences=1`"
   ]
  },
  {
   "cell_type": "code",
   "execution_count": 5,
   "id": "8b171887",
   "metadata": {},
   "outputs": [
    {
     "name": "stdout",
     "output_type": "stream",
     "text": [
      "Files already downloaded and verified\n",
      "Files already downloaded and verified\n"
     ]
    },
    {
     "name": "stderr",
     "output_type": "stream",
     "text": [
      "C:\\Users\\cenzo\\AppData\\Local\\Packages\\PythonSoftwareFoundation.Python.3.11_qbz5n2kfra8p0\\LocalCache\\local-packages\\Python311\\site-packages\\avalanche\\benchmarks\\scenarios\\supervised.py:389: UserWarning: stream generator will be converted to a list.\n",
      "  warnings.warn(\"stream generator will be converted to a list.\")\n"
     ]
    }
   ],
   "source": [
    "from avalanche.benchmarks import SplitCIFAR10\n",
    "from avalanche.benchmarks import benchmark_with_validation_stream\n",
    "\n",
    "# data is stored in $HOME/.avalanche - you can change this setting in $HOME/.avalanche/config.json\n",
    "benchmark = SplitCIFAR10(n_experiences=1)\n",
    "benchmark = benchmark_with_validation_stream(benchmark, validation_size=0.3)"
   ]
  },
  {
   "cell_type": "markdown",
   "id": "e67b4f21",
   "metadata": {},
   "source": [
    "we take the data from the streams"
   ]
  },
  {
   "cell_type": "code",
   "execution_count": 6,
   "id": "31c41404",
   "metadata": {},
   "outputs": [],
   "source": [
    "train_data = benchmark.train_stream[0].dataset\n",
    "valid_data = benchmark.valid_stream[0].dataset\n",
    "test_data = benchmark.test_stream[0].dataset"
   ]
  },
  {
   "cell_type": "markdown",
   "id": "11708f64",
   "metadata": {},
   "source": [
    "NOTE: colors are wrong due to augmentations"
   ]
  },
  {
   "cell_type": "code",
   "execution_count": 7,
   "id": "a7fbe4bd",
   "metadata": {},
   "outputs": [
    {
     "name": "stderr",
     "output_type": "stream",
     "text": [
      "Clipping input data to the valid range for imshow with RGB data ([0..1] for floats or [0..255] for integers).\n"
     ]
    },
    {
     "data": {
      "text/plain": [
       "Text(0.5, 1.0, 'label=0')"
      ]
     },
     "execution_count": 7,
     "metadata": {},
     "output_type": "execute_result"
    },
    {
     "data": {
      "image/png": "[encoded data removed]",
      "text/plain": [
       "<Figure size 640x480 with 1 Axes>"
      ]
     },
     "metadata": {},
     "output_type": "display_data"
    }
   ],
   "source": [
    "plt.figure()\n",
    "plt.imshow(train_data[0][0].transpose(0,2).numpy())\n",
    "plt.title(f\"label={train_data[0][1]}\")\n",
    "\n"
   ]
  },
  {
   "cell_type": "code",
   "execution_count": 72,
   "id": "0281a354",
   "metadata": {},
   "outputs": [],
   "source": [
    "# change input transformation size without padding or cropping to another size like 64x64\n",
    "\n",
    "resize = torchvision.transforms.Resize((64, 64))\n",
    "resized_train_data = []\n",
    "# get a resized training data\n",
    "for data in train_data:\n",
    "    resized_train_data.append(resize(data[0]))\n",
    "    "
   ]
  },
  {
   "cell_type": "code",
   "execution_count": 93,
   "id": "86cee642",
   "metadata": {},
   "outputs": [],
   "source": [
    "resized_valid_data = []\n",
    "\n",
    "for data in valid_data:\n",
    "    resized_train_data.append(resize(data[0]))"
   ]
  },
  {
   "cell_type": "code",
   "execution_count": 105,
   "id": "c5429b15",
   "metadata": {},
   "outputs": [],
   "source": [
    "train_data = resized_train_data\n",
    "\n"
   ]
  },
  {
   "cell_type": "markdown",
   "id": "0b374b17",
   "metadata": {},
   "source": [
    "# Dataloading"
   ]
  },
  {
   "cell_type": "code",
   "execution_count": 112,
   "id": "8e71f88d",
   "metadata": {},
   "outputs": [
    {
     "name": "stdout",
     "output_type": "stream",
     "text": [
      "x.shape: torch.Size([100, 3, 64, 64])\n",
      "y: tensor([6, 6, 6, 6, 6, 6, 6, 6, 6, 6, 6, 6, 6, 6, 6, 6, 6, 6, 6, 6, 6, 6, 6, 6,\n",
      "        6, 6, 6, 6, 6, 6, 6, 6, 6, 6, 6, 6, 6, 6, 6, 6, 6, 6, 6, 6, 6, 6, 6, 6,\n",
      "        6, 6, 6, 6, 6, 6, 6, 6, 6, 6, 6, 6, 6, 6, 6, 6, 6, 6, 6, 6, 6, 6, 6, 6,\n",
      "        6, 6, 6, 6, 6, 6, 6, 6, 6, 6, 6, 6, 6, 6, 6, 6, 6, 6, 6, 6, 6, 6, 6, 6,\n",
      "        6, 6, 6, 6])\n",
      "t: tensor([0, 0, 0, 0, 0, 0, 0, 0, 0, 0, 0, 0, 0, 0, 0, 0, 0, 0, 0, 0, 0, 0, 0, 0,\n",
      "        0, 0, 0, 0, 0, 0, 0, 0, 0, 0, 0, 0, 0, 0, 0, 0, 0, 0, 0, 0, 0, 0, 0, 0,\n",
      "        0, 0, 0, 0, 0, 0, 0, 0, 0, 0, 0, 0, 0, 0, 0, 0, 0, 0, 0, 0, 0, 0, 0, 0,\n",
      "        0, 0, 0, 0, 0, 0, 0, 0, 0, 0, 0, 0, 0, 0, 0, 0, 0, 0, 0, 0, 0, 0, 0, 0,\n",
      "        0, 0, 0, 0])\n",
      "0, 100, 200, 300, 400, "
     ]
    }
   ],
   "source": [
    "from torch.utils.data import DataLoader\n",
    "\n",
    "dataloader = DataLoader(train_data, batch_size=100)\n",
    "\n",
    "for i, (x) in enumerate(dataloader):\n",
    "    # x is the input\n",
    "    # y is the target class\n",
    "    # t is the task label.\n",
    "    # We will use it for multi-task problems\n",
    "    pass\n",
    "    if i == 0:\n",
    "        print(f\"x.shape: {x.shape}\")\n",
    "        print(f\"y: {y}\")\n",
    "        print(f\"t: {t}\")\n",
    "    if i % 100 == 0:\n",
    "        print(i, end=\", \")\n"
   ]
  },
  {
   "cell_type": "markdown",
   "id": "218664fc",
   "metadata": {},
   "source": [
    "# Model\n",
    "We use a resnet18."
   ]
  },
  {
   "cell_type": "code",
   "execution_count": 113,
   "id": "60eeb7ea",
   "metadata": {},
   "outputs": [],
   "source": [
    "\"\"\"This is the slimmed ResNet as used by Lopez et al. in the GEM paper.\"\"\"\n",
    "import torch.nn as nn\n",
    "from torch.nn.functional import relu, avg_pool2d\n",
    "from avalanche.models import DynamicModule\n",
    "\n",
    "\n",
    "class MLP(nn.Module):\n",
    "    def __init__(self, sizes):\n",
    "        super(MLP, self).__init__()\n",
    "        layers = []\n",
    "        for i in range(0, len(sizes) - 1):\n",
    "            layers.append(nn.Linear(sizes[i], sizes[i + 1]))\n",
    "            if i < (len(sizes) - 2):\n",
    "                layers.append(nn.ReLU())\n",
    "        self.net = nn.Sequential(*layers)\n",
    "\n",
    "    def forward(self, x):\n",
    "        return self.net(x)\n",
    "\n",
    "\n",
    "def conv3x3(in_planes, out_planes, stride=1):\n",
    "    return nn.Conv2d(\n",
    "        in_planes,\n",
    "        out_planes,\n",
    "        kernel_size=3,\n",
    "        stride=stride,\n",
    "        padding=1,\n",
    "        bias=False,\n",
    "    )\n",
    "\n",
    "\n",
    "class BasicBlock(nn.Module):\n",
    "    expansion = 1\n",
    "\n",
    "    def __init__(self, in_planes, planes, stride=1):\n",
    "        super(BasicBlock, self).__init__()\n",
    "        self.conv1 = conv3x3(in_planes, planes, stride)\n",
    "        self.bn1 = nn.BatchNorm2d(planes)\n",
    "        self.conv2 = conv3x3(planes, planes)\n",
    "        self.bn2 = nn.BatchNorm2d(planes)\n",
    "\n",
    "        self.shortcut = nn.Sequential()\n",
    "        if stride != 1 or in_planes != self.expansion * planes:\n",
    "            self.shortcut = nn.Sequential(\n",
    "                nn.Conv2d(\n",
    "                    in_planes,\n",
    "                    self.expansion * planes,\n",
    "                    kernel_size=1,\n",
    "                    stride=stride,\n",
    "                    bias=False,\n",
    "                ),\n",
    "                nn.BatchNorm2d(self.expansion * planes),\n",
    "            )\n",
    "\n",
    "    def forward(self, x):\n",
    "        out = relu(self.bn1(self.conv1(x)))\n",
    "        out = self.bn2(self.conv2(out))\n",
    "        out += self.shortcut(x)\n",
    "        out = relu(out)\n",
    "        return out\n",
    "\n",
    "\n",
    "class ResNet(nn.Module):\n",
    "    def __init__(self, block, num_blocks, num_classes, nf):\n",
    "        super(ResNet, self).__init__()\n",
    "        self.in_planes = nf\n",
    "\n",
    "        self.conv1 = conv3x3(3, nf * 1)\n",
    "        self.bn1 = nn.BatchNorm2d(nf * 1)\n",
    "        self.layer1 = self._make_layer(block, nf * 1, num_blocks[0], stride=1)\n",
    "        self.layer2 = self._make_layer(block, nf * 2, num_blocks[1], stride=2)\n",
    "        self.layer3 = self._make_layer(block, nf * 4, num_blocks[2], stride=2)\n",
    "        self.layer4 = self._make_layer(block, nf * 8, num_blocks[3], stride=2)\n",
    "        self.linear = nn.Linear(nf * 8 * block.expansion, num_classes)\n",
    "\n",
    "    def _make_layer(self, block, planes, num_blocks, stride):\n",
    "        strides = [stride] + [1] * (num_blocks - 1)\n",
    "        layers = []\n",
    "        for stride in strides:\n",
    "            layers.append(block(self.in_planes, planes, stride))\n",
    "            self.in_planes = planes * block.expansion\n",
    "        return nn.Sequential(*layers)\n",
    "\n",
    "    def forward(self, x):\n",
    "        bsz = x.size(0)\n",
    "        out = relu(self.bn1(self.conv1(x.view(bsz, 3, 32, 32))))\n",
    "        out = self.layer1(out)\n",
    "        out = self.layer2(out)\n",
    "        out = self.layer3(out)\n",
    "        out = self.layer4(out)\n",
    "        out = avg_pool2d(out, 4)\n",
    "        out = out.view(out.size(0), -1)\n",
    "        out = self.linear(out)\n",
    "        return out\n",
    "\n",
    "\n",
    "def SlimResNet18(nclasses, nf=20):\n",
    "    \"\"\"Slimmed ResNet18.\"\"\"\n",
    "    return ResNet(BasicBlock, [2, 2, 2, 2], nclasses, nf)"
   ]
  },
  {
   "cell_type": "code",
   "execution_count": 114,
   "id": "2f67c27e",
   "metadata": {
    "scrolled": true
   },
   "outputs": [
    {
     "name": "stdout",
     "output_type": "stream",
     "text": [
      "ResNet(\n",
      "  (conv1): Conv2d(3, 20, kernel_size=(3, 3), stride=(1, 1), padding=(1, 1), bias=False)\n",
      "  (bn1): BatchNorm2d(20, eps=1e-05, momentum=0.1, affine=True, track_running_stats=True)\n",
      "  (layer1): Sequential(\n",
      "    (0): BasicBlock(\n",
      "      (conv1): Conv2d(20, 20, kernel_size=(3, 3), stride=(1, 1), padding=(1, 1), bias=False)\n",
      "      (bn1): BatchNorm2d(20, eps=1e-05, momentum=0.1, affine=True, track_running_stats=True)\n",
      "      (conv2): Conv2d(20, 20, kernel_size=(3, 3), stride=(1, 1), padding=(1, 1), bias=False)\n",
      "      (bn2): BatchNorm2d(20, eps=1e-05, momentum=0.1, affine=True, track_running_stats=True)\n",
      "      (shortcut): Sequential()\n",
      "    )\n",
      "    (1): BasicBlock(\n",
      "      (conv1): Conv2d(20, 20, kernel_size=(3, 3), stride=(1, 1), padding=(1, 1), bias=False)\n",
      "      (bn1): BatchNorm2d(20, eps=1e-05, momentum=0.1, affine=True, track_running_stats=True)\n",
      "      (conv2): Conv2d(20, 20, kernel_size=(3, 3), stride=(1, 1), padding=(1, 1), bias=False)\n",
      "      (bn2): BatchNorm2d(20, eps=1e-05, momentum=0.1, affine=True, track_running_stats=True)\n",
      "      (shortcut): Sequential()\n",
      "    )\n",
      "  )\n",
      "  (layer2): Sequential(\n",
      "    (0): BasicBlock(\n",
      "      (conv1): Conv2d(20, 40, kernel_size=(3, 3), stride=(2, 2), padding=(1, 1), bias=False)\n",
      "      (bn1): BatchNorm2d(40, eps=1e-05, momentum=0.1, affine=True, track_running_stats=True)\n",
      "      (conv2): Conv2d(40, 40, kernel_size=(3, 3), stride=(1, 1), padding=(1, 1), bias=False)\n",
      "      (bn2): BatchNorm2d(40, eps=1e-05, momentum=0.1, affine=True, track_running_stats=True)\n",
      "      (shortcut): Sequential(\n",
      "        (0): Conv2d(20, 40, kernel_size=(1, 1), stride=(2, 2), bias=False)\n",
      "        (1): BatchNorm2d(40, eps=1e-05, momentum=0.1, affine=True, track_running_stats=True)\n",
      "      )\n",
      "    )\n",
      "    (1): BasicBlock(\n",
      "      (conv1): Conv2d(40, 40, kernel_size=(3, 3), stride=(1, 1), padding=(1, 1), bias=False)\n",
      "      (bn1): BatchNorm2d(40, eps=1e-05, momentum=0.1, affine=True, track_running_stats=True)\n",
      "      (conv2): Conv2d(40, 40, kernel_size=(3, 3), stride=(1, 1), padding=(1, 1), bias=False)\n",
      "      (bn2): BatchNorm2d(40, eps=1e-05, momentum=0.1, affine=True, track_running_stats=True)\n",
      "      (shortcut): Sequential()\n",
      "    )\n",
      "  )\n",
      "  (layer3): Sequential(\n",
      "    (0): BasicBlock(\n",
      "      (conv1): Conv2d(40, 80, kernel_size=(3, 3), stride=(2, 2), padding=(1, 1), bias=False)\n",
      "      (bn1): BatchNorm2d(80, eps=1e-05, momentum=0.1, affine=True, track_running_stats=True)\n",
      "      (conv2): Conv2d(80, 80, kernel_size=(3, 3), stride=(1, 1), padding=(1, 1), bias=False)\n",
      "      (bn2): BatchNorm2d(80, eps=1e-05, momentum=0.1, affine=True, track_running_stats=True)\n",
      "      (shortcut): Sequential(\n",
      "        (0): Conv2d(40, 80, kernel_size=(1, 1), stride=(2, 2), bias=False)\n",
      "        (1): BatchNorm2d(80, eps=1e-05, momentum=0.1, affine=True, track_running_stats=True)\n",
      "      )\n",
      "    )\n",
      "    (1): BasicBlock(\n",
      "      (conv1): Conv2d(80, 80, kernel_size=(3, 3), stride=(1, 1), padding=(1, 1), bias=False)\n",
      "      (bn1): BatchNorm2d(80, eps=1e-05, momentum=0.1, affine=True, track_running_stats=True)\n",
      "      (conv2): Conv2d(80, 80, kernel_size=(3, 3), stride=(1, 1), padding=(1, 1), bias=False)\n",
      "      (bn2): BatchNorm2d(80, eps=1e-05, momentum=0.1, affine=True, track_running_stats=True)\n",
      "      (shortcut): Sequential()\n",
      "    )\n",
      "  )\n",
      "  (layer4): Sequential(\n",
      "    (0): BasicBlock(\n",
      "      (conv1): Conv2d(80, 160, kernel_size=(3, 3), stride=(2, 2), padding=(1, 1), bias=False)\n",
      "      (bn1): BatchNorm2d(160, eps=1e-05, momentum=0.1, affine=True, track_running_stats=True)\n",
      "      (conv2): Conv2d(160, 160, kernel_size=(3, 3), stride=(1, 1), padding=(1, 1), bias=False)\n",
      "      (bn2): BatchNorm2d(160, eps=1e-05, momentum=0.1, affine=True, track_running_stats=True)\n",
      "      (shortcut): Sequential(\n",
      "        (0): Conv2d(80, 160, kernel_size=(1, 1), stride=(2, 2), bias=False)\n",
      "        (1): BatchNorm2d(160, eps=1e-05, momentum=0.1, affine=True, track_running_stats=True)\n",
      "      )\n",
      "    )\n",
      "    (1): BasicBlock(\n",
      "      (conv1): Conv2d(160, 160, kernel_size=(3, 3), stride=(1, 1), padding=(1, 1), bias=False)\n",
      "      (bn1): BatchNorm2d(160, eps=1e-05, momentum=0.1, affine=True, track_running_stats=True)\n",
      "      (conv2): Conv2d(160, 160, kernel_size=(3, 3), stride=(1, 1), padding=(1, 1), bias=False)\n",
      "      (bn2): BatchNorm2d(160, eps=1e-05, momentum=0.1, affine=True, track_running_stats=True)\n",
      "      (shortcut): Sequential()\n",
      "    )\n",
      "  )\n",
      "  (linear): Linear(in_features=160, out_features=10, bias=True)\n",
      ")\n"
     ]
    }
   ],
   "source": [
    "model = SlimResNet18(nclasses=10)\n",
    "print(model)"
   ]
  },
  {
   "cell_type": "markdown",
   "id": "b07d5923",
   "metadata": {},
   "source": [
    "# Training"
   ]
  },
  {
   "cell_type": "code",
   "execution_count": 115,
   "id": "8d6052b9",
   "metadata": {},
   "outputs": [
    {
     "name": "stdout",
     "output_type": "stream",
     "text": [
      "C:\\Users\\cenzo\\AppData\\Local\\Packages\\PythonSoftwareFoundation.Python.3.11_qbz5n2kfra8p0\\LocalCache\\local-packages\\Python311\\site-packages\\torch\\__init__.py\n"
     ]
    }
   ],
   "source": [
    "torch.cuda.is_available()\n",
    "print(torch.__file__)"
   ]
  },
  {
   "cell_type": "code",
   "execution_count": 117,
   "id": "b21d3fea",
   "metadata": {},
   "outputs": [
    {
     "ename": "AttributeError",
     "evalue": "'list' object has no attribute 'train'",
     "output_type": "error",
     "traceback": [
      "\u001b[1;31m---------------------------------------------------------------------------\u001b[0m",
      "\u001b[1;31mAttributeError\u001b[0m                            Traceback (most recent call last)",
      "Cell \u001b[1;32mIn[117], line 17\u001b[0m\n\u001b[0;32m     12\u001b[0m criterion \u001b[38;5;241m=\u001b[39m torch\u001b[38;5;241m.\u001b[39mnn\u001b[38;5;241m.\u001b[39mCrossEntropyLoss()\n\u001b[0;32m     14\u001b[0m \u001b[38;5;66;03m# Avalanche datasets have a training and eval mode (train/eval methods)\u001b[39;00m\n\u001b[0;32m     15\u001b[0m \u001b[38;5;66;03m# to activate different augmentations\u001b[39;00m\n\u001b[0;32m     16\u001b[0m \u001b[38;5;66;03m# don't forget to activate it!\u001b[39;00m\n\u001b[1;32m---> 17\u001b[0m train_data \u001b[38;5;241m=\u001b[39m \u001b[43mtrain_data\u001b[49m\u001b[38;5;241;43m.\u001b[39;49m\u001b[43mtrain\u001b[49m()\n\u001b[0;32m     19\u001b[0m \u001b[38;5;66;03m# Iterate over the dataset and train the model\u001b[39;00m\n\u001b[0;32m     20\u001b[0m model\u001b[38;5;241m.\u001b[39mtrain()  \u001b[38;5;66;03m# don't forget to set the training mode!\u001b[39;00m\n",
      "\u001b[1;31mAttributeError\u001b[0m: 'list' object has no attribute 'train'"
     ]
    }
   ],
   "source": [
    "from tqdm import tqdm\n",
    "\n",
    "# check if resnet trained is in this folder otherwise train it\n",
    "import os\n",
    "if not os.path.exists('resnet18_cifar10.pt'):\n",
    "    # train the model\n",
    "\n",
    "    device = 'cuda' # do yourself a favor and use a gpu by setting device='cuda'\n",
    "    model = SlimResNet18(nclasses=10)\n",
    "    model = model.to(device)\n",
    "    optimizer = torch.optim.SGD(model.parameters(), lr=0.04)\n",
    "    criterion = torch.nn.CrossEntropyLoss()\n",
    "\n",
    "    # Avalanche datasets have a training and eval mode (train/eval methods)\n",
    "    # to activate different augmentations\n",
    "    # don't forget to activate it!\n",
    "    train_data = train_data.train()\n",
    "\n",
    "    # Iterate over the dataset and train the model\n",
    "    model.train()  # don't forget to set the training mode!\n",
    "    for ep in range(10):  # 10 epoch is a bit on the low end. With a GPU you can run a larger experiment\n",
    "        dataloader = DataLoader(train_data, batch_size=32, shuffle=True, num_workers=0)  # increase num_workers if you have more CPUs\n",
    "        pbar = tqdm(dataloader)\n",
    "        for (x, y, _) in pbar:\n",
    "            x, y = x.to(device), y.to(device)\n",
    "            # the order matters!\n",
    "            # - reset the gradients\n",
    "            # - forward pass\n",
    "            # - backward pass\n",
    "            # - descent step\n",
    "            optimizer.zero_grad()   \n",
    "            pred = model(x)\n",
    "            loss = criterion(pred, y)\n",
    "            loss.backward()\n",
    "            optimizer.step()\n",
    "            pbar.set_description(f\"Loss: {loss.item():0.4f}\")\n",
    "            \n",
    "    # save the model\n",
    "    torch.save(model.state_dict(), 'resnet18_cifar10.pt')\n",
    "else:\n",
    "    # load the model\n",
    "    device = 'cuda' # do yourself a favor and use a gpu by setting device='cuda'\n",
    "    model = SlimResNet18(nclasses=10)\n",
    "    # load with cuda    \n",
    "    model = model.to(device)\n",
    "    model.load_state_dict(torch.load('resnet18_cifar10.pt'))\n"
   ]
  },
  {
   "cell_type": "code",
   "execution_count": 12,
   "id": "37aadfb4",
   "metadata": {},
   "outputs": [
    {
     "name": "stderr",
     "output_type": "stream",
     "text": [
      "Acc: 0.5641: 100%|██████████| 313/313 [00:06<00:00, 49.51it/s]"
     ]
    },
    {
     "name": "stdout",
     "output_type": "stream",
     "text": [
      "Test accuracy: 0.5641\n"
     ]
    },
    {
     "name": "stderr",
     "output_type": "stream",
     "text": [
      "\n"
     ]
    }
   ],
   "source": [
    "# evaluate the model\n",
    "from sklearn.metrics import classification_report, confusion_matrix\n",
    "\n",
    "model.eval()  # don't forget to set the eval mode!\n",
    "test_data = test_data.train()  # don't forget to set the eval mode!\n",
    "n_correct = 0\n",
    "n_total = 0\n",
    "\n",
    "dataloader = DataLoader(test_data, batch_size=32, shuffle=False, num_workers=0)  # increase num_workers if you have more CPUs\n",
    "\n",
    "pbar = tqdm(dataloader)\n",
    "\n",
    "for (x, y, _) in pbar:\n",
    "    x, y = x.to(device), y.to(device)\n",
    "    with torch.no_grad():\n",
    "        pred = model(x)\n",
    "        n_correct += (pred.argmax(1) == y).sum().item()\n",
    "        n_total += y.size(0)\n",
    "    pbar.set_description(f\"Acc: {n_correct/n_total:0.4f}\")\n",
    "    \n",
    "print(f\"Test accuracy: {n_correct/n_total:0.4f}\")\n",
    "\n",
    "\n"
   ]
  },
  {
   "cell_type": "code",
   "execution_count": 13,
   "id": "b8d8efd9",
   "metadata": {},
   "outputs": [
    {
     "name": "stderr",
     "output_type": "stream",
     "text": [
      "Clipping input data to the valid range for imshow with RGB data ([0..1] for floats or [0..255] for integers).\n"
     ]
    },
    {
     "data": {
      "text/plain": [
       "<Figure size 640x480 with 0 Axes>"
      ]
     },
     "execution_count": 13,
     "metadata": {},
     "output_type": "execute_result"
    },
    {
     "data": {
      "image/png": "[encoded data removed]",
      "text/plain": [
       "<Figure size 640x480 with 1 Axes>"
      ]
     },
     "metadata": {},
     "output_type": "display_data"
    },
    {
     "data": {
      "text/plain": [
       "<Figure size 640x480 with 0 Axes>"
      ]
     },
     "metadata": {},
     "output_type": "display_data"
    }
   ],
   "source": [
    "# Show an example of the dataset sample along predictions\n",
    "import numpy as np\n",
    "\n",
    "# get a sample\n",
    "x, y, _ = test_data[60]\n",
    "x = x.unsqueeze(0).to(device)\n",
    "# get the prediction\n",
    "with torch.no_grad():\n",
    "    pred = model(x)\n",
    "    pred_label = pred.argmax(1).item()\n",
    "    \n",
    "# show the image\n",
    "plt.figure()\n",
    "\n",
    "# we need to move the tensor back to the cpu\n",
    "plt.imshow(x.squeeze(0).cpu().numpy().transpose(1,2,0))\n",
    "plt.title(f\"True label: {y}\\nPred label: {pred_label}\")\n",
    "\n",
    "# show the image\n",
    "plt.figure()\n",
    "\n"
   ]
  },
  {
   "cell_type": "markdown",
   "id": "a017e21f",
   "metadata": {},
   "source": [
    "# Evaluation"
   ]
  },
  {
   "cell_type": "code",
   "execution_count": 18,
   "id": "f079156f",
   "metadata": {},
   "outputs": [
    {
     "name": "stderr",
     "output_type": "stream",
     "text": [
      "ACC: 0.0000: 100%|██████████| 469/469 [00:08<00:00, 53.11it/s]\n"
     ]
    }
   ],
   "source": [
    "model = model.eval()\n",
    "train_data = valid_data.eval()\n",
    "\n",
    "dataloader = DataLoader(valid_data, batch_size=32, num_workers=0)  # increase num_workers if you have more CPUs\n",
    "pbar = tqdm(dataloader)\n",
    "correct, tot = 0, 0\n",
    "for (x, y, _) in pbar:\n",
    "    x, y = x.to(device), y.to(device)\n",
    "    pred = model(x)\n",
    "    _, pred = torch.max(pred.data, 1)\n",
    "    correct += (pred == y).sum().item()\n",
    "    tot += x.shape[0]\n",
    "    pbar.set_description(f\"ACC: {correct / tot:.4f}\")"
   ]
  },
  {
   "cell_type": "markdown",
   "id": "3281538b",
   "metadata": {},
   "source": [
    "# Exercises\n",
    "Pick a couple of them to experiment with:\n",
    "\n",
    "- **resnet**: check the ResNet code. Do you understand everything? If not, check the documentation or ask for help.\n",
    "    - advanced version: now change the input transformations to change the input size of the images. Are you able to change the resnet architecture to make it compatible with the new image? Any change to the architecture is fine (just don't pad/crop the image...).\n",
    "- **dataloading**: If you have a large GPU (V100/A100), you need to feed the data fast enough, otherwise you are going to waste precious GPU cycles. Transformations can be expensive and dataloaders can make a big difference in performance.\n",
    "    - simple exercise: test and profile different augmentations from [torchvision.transforms](https://pytorch.org/vision/stable/transforms.html). Play with the DataLoader parameters and measure its performance ([doc](https://pytorch.org/docs/stable/data.html#torch.utils.data.DataLoader)). Try varying `num_workers`, `pin_memory`, and any other argument that you feel is relevant. Profile your code by timing the loading of the entire dataset in mini-batches, like you would do for a training epoch (without the forward/backward pass).\n",
    "    - advanced exercise: you can also try [FFCV](https://github.com/libffcv/ffcv). Its usage is a bit more involved since you need an additional dependency and you need to prepare the dataset, but you can make the data pipeline much faster with with it.\n",
    "- **augmentations matter**: try to train a model with and without augmentations.\n",
    "- **training stability and lr**: try to increase the learning rate (10x, 100x, ...). What happens to the learning curve? You can also try some learning rate scheduler.\n",
    "- **dropout**: as you know, dropout helps training DNN by regularizing the activations. But does it? You can try a small model such as a [SimpleMLP](https://avalanche-api.continualai.org/en/v0.3.1/generated/avalanche.models.SimpleMLP.html#avalanche.models.SimpleMLP). Does it always help? **hint**: as a general rule, if the model is too small (too shallow or not enough units), dropout will *decrease* the performance. This is a simple exercise to show you that scale matters when you make hyperparameter choices.\n",
    "- **add early stopping + model checkpointing**\n",
    "- **reproduce sota for CIFAR100**: use this notebook to reproduce a result from [this repo](https://github.com/weiaicunzai/pytorch-cifar100). NOTE: our resnet18 is slightly different from theirs (slim version, less units)"
   ]
  },
  {
   "cell_type": "code",
   "execution_count": null,
   "id": "db6451ae",
   "metadata": {},
   "outputs": [],
   "source": []
  }
 ],
 "metadata": {
  "kernelspec": {
   "display_name": "Python 3 (ipykernel)",
   "language": "python",
   "name": "python3"
  },
  "language_info": {
   "codemirror_mode": {
    "name": "ipython",
    "version": 3
   },
   "file_extension": ".py",
   "mimetype": "text/x-python",
   "name": "python",
   "nbconvert_exporter": "python",
   "pygments_lexer": "ipython3",
   "version": "3.11.8"
  }
 },
 "nbformat": 4,
 "nbformat_minor": 5
}
